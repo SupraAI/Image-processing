{
 "cells": [
  {
   "cell_type": "markdown",
   "id": "d4c1d15b-4140-4613-bdd7-703c93d365bb",
   "metadata": {},
   "source": [
    "<span style=\"font-size: 24px;\">**Animal detection in a picture using yolov4**</span>"
   ]
  },
  {
   "cell_type": "code",
   "execution_count": null,
   "id": "8f86c456-3e28-4da7-8b69-21404ded1e79",
   "metadata": {},
   "outputs": [],
   "source": [
    "from glob import glob"
   ]
  },
  {
   "cell_type": "code",
   "execution_count": null,
   "id": "32c81437-f025-4e94-835f-d42726de1358",
   "metadata": {},
   "outputs": [],
   "source": [
    "images_paths = glob('./animal*')"
   ]
  },
  {
   "cell_type": "code",
   "execution_count": null,
   "id": "84743078-c464-41c2-937c-f50b9d0aec47",
   "metadata": {},
   "outputs": [],
   "source": [
    "import cv2\n",
    "import numpy as np\n",
    "from IPython.display import Image, display\n",
    "\n",
    "# files related to yolov4\n",
    "COCO_LABELS_FILE = 'coco.names'  \n",
    "YOLO_CONFIG_FILE = 'yolov4.cfg'  \n",
    "YOLO_WEIGHTS_FILE = 'yolov4.weights'\n",
    "\n",
    "# Loading the image\n",
    "for image1 in images_paths:\n",
    "    img = cv2.imread(image1)\n",
    "    img_copy = img.copy() \n",
    "    \n",
    "    # Loading the labels required for the YOLO model (not used)\n",
    "    with open(COCO_LABELS_FILE, 'rt') as f:\n",
    "        labels = f.read().rstrip('\\n').split('\\n')\n",
    "    \n",
    "    # Loading the YOLO model\n",
    "    yolo = cv2.dnn.readNetFromDarknet(YOLO_CONFIG_FILE, YOLO_WEIGHTS_FILE)\n",
    "    \n",
    "    # Resizing the picture for the model\n",
    "    blob = cv2.dnn.blobFromImage(img, 1 / 255.0, (416, 416), swapRB=True, crop=False)\n",
    "    yolo.setInput(blob)\n",
    "    \n",
    "    layer_names = yolo.getLayerNames()\n",
    "    output_layers = [layer_names[i - 1] for i in yolo.getUnconnectedOutLayers()]\n",
    "    \n",
    "    # Detecting the animal\n",
    "    outs = yolo.forward(output_layers)\n",
    "    \n",
    "    # Processing the results\n",
    "    boxes_detected = []\n",
    "    confidences_scores = []\n",
    "    labels_detected = []\n",
    "    height, width = img.shape[:2]\n",
    "    \n",
    "    for out in outs:\n",
    "        for detection in out:\n",
    "            scores = detection[5:]\n",
    "            classID = np.argmax(scores)\n",
    "            confidence = scores[classID]\n",
    "    \n",
    "            if confidence > 0.3:  #Only keep detections with confidence higher than 0.3\n",
    "                centerX = int(detection[0] * width)\n",
    "                centerY = int(detection[1] * height)\n",
    "                w = int(detection[2] * width)\n",
    "                h = int(detection[3] * height)\n",
    "    \n",
    "                # Calculating the top-left corner coordinates\n",
    "                x = int(centerX - w / 2)\n",
    "                y = int(centerY - h / 2)\n",
    "    \n",
    "                # Add the results to the list\n",
    "                boxes_detected.append([x, y, w, h])\n",
    "                confidences_scores.append(float(confidence))\n",
    "                labels_detected.append(classID)\n",
    "    \n",
    "    # Applying Non-Maximum Suppression to remove overlapping boxes\n",
    "    indices = cv2.dnn.NMSBoxes(boxes_detected, confidences_scores, score_threshold=0.3, nms_threshold=0.4)\n",
    "    \n",
    "    # Drawing detection boxes and \"animal\" label on the image\n",
    "    if len(indices) > 0:\n",
    "        for i in indices.flatten():\n",
    "            x, y, w, h = boxes_detected[i]\n",
    "            label = \"animal\" # single class \"animal\"\n",
    "            color = (0, 0, 255)  # Red for bounding boxes\n",
    "            cv2.rectangle(img_copy, (x, y), (x + w, y + h), color, 2) # Drawing detection boxes\n",
    "            cv2.putText(img_copy, label, (x, y - 10), cv2.FONT_HERSHEY_SIMPLEX, 0.5, color, 2)\n",
    "    \n",
    "    # Displaying and saving the picture\n",
    "    output_file = \"output_with_animal.jpg\"\n",
    "    cv2.imwrite(output_file, img_copy) # saving \n",
    "    display(Image(output_file, width=512, height=512))\n",
    "\n"
   ]
  }
 ],
 "metadata": {
  "kernelspec": {
   "display_name": "",
   "name": ""
  },
  "language_info": {
   "name": ""
  }
 },
 "nbformat": 4,
 "nbformat_minor": 5
}
